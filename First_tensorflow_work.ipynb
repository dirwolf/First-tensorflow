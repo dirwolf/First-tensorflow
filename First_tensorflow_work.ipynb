{
  "cells": [
    {
      "cell_type": "markdown",
      "metadata": {
        "id": "FjAFv3VVBF27"
      },
      "source": [
        "# 0. Import Data"
      ]
    },
    {
      "cell_type": "code",
      "execution_count": null,
      "metadata": {
        "id": "yJJxkzf0BF2_"
      },
      "outputs": [],
      "source": [
        "import pandas as pd\n",
        "from sklearn.model_selection import train_test_split"
      ]
    },
    {
      "cell_type": "code",
      "execution_count": null,
      "metadata": {
        "id": "2HIDdCX0BF3A"
      },
      "outputs": [],
      "source": [
        "df = pd.read_csv('Churn.csv')"
      ]
    },
    {
      "cell_type": "code",
      "execution_count": null,
      "metadata": {
        "id": "6afhOpxnBF3B"
      },
      "outputs": [],
      "source": [
        "X = pd.get_dummies(df.drop(['Churn', 'Customer ID'], axis=1))\n",
        "y = df['Churn'].apply(lambda x: 1 if x=='Yes' else 0)"
      ]
    },
    {
      "cell_type": "code",
      "execution_count": null,
      "metadata": {
        "id": "5A9XLjWOBF3B"
      },
      "outputs": [],
      "source": [
        "X_train, X_test, y_train, y_test = train_test_split(X, y, test_size=.2)"
      ]
    },
    {
      "cell_type": "code",
      "execution_count": null,
      "metadata": {
        "colab": {
          "base_uri": "https://localhost:8080/"
        },
        "id": "onHWorCABF3C",
        "outputId": "2bd6260a-eb89-47e7-cb49-9833c5914ebc"
      },
      "outputs": [
        {
          "output_type": "execute_result",
          "data": {
            "text/plain": [
              "5784    1\n",
              "1157    0\n",
              "5881    1\n",
              "3839    0\n",
              "2883    0\n",
              "Name: Churn, dtype: int64"
            ]
          },
          "metadata": {},
          "execution_count": 6
        }
      ],
      "source": [
        "y_train.head()"
      ]
    },
    {
      "cell_type": "markdown",
      "metadata": {
        "id": "xJgyBy9rBF3D"
      },
      "source": [
        "# 1. Import Dependencies"
      ]
    },
    {
      "cell_type": "code",
      "execution_count": null,
      "metadata": {
        "id": "hYWRo17HBF3D"
      },
      "outputs": [],
      "source": [
        "from tensorflow.keras.models import Sequential, load_model\n",
        "from tensorflow.keras.layers import Dense\n",
        "from sklearn.metrics import accuracy_score"
      ]
    },
    {
      "cell_type": "markdown",
      "metadata": {
        "id": "UL2oHMtlBF3D"
      },
      "source": [
        "# 2. Build and Compile Model"
      ]
    },
    {
      "cell_type": "code",
      "execution_count": null,
      "metadata": {
        "id": "uYtCpxwFBF3E"
      },
      "outputs": [],
      "source": [
        "model = Sequential()\n",
        "model.add(Dense(units=32, activation='relu', input_dim=len(X_train.columns)))\n",
        "model.add(Dense(units=64, activation='relu'))\n",
        "model.add(Dense(units=1, activation='sigmoid'))"
      ]
    },
    {
      "cell_type": "code",
      "execution_count": null,
      "metadata": {
        "id": "FvZnZF3PBF3E"
      },
      "outputs": [],
      "source": [
        "model.compile(loss='binary_crossentropy', optimizer='sgd', metrics='accuracy')"
      ]
    },
    {
      "cell_type": "code",
      "source": [
        "# Convert data types if needed\n",
        "X_train = X_train.astype('float32')\n",
        "y_train = y_train.astype('float32')"
      ],
      "metadata": {
        "id": "Gpd43IdsJYpn"
      },
      "execution_count": null,
      "outputs": []
    },
    {
      "cell_type": "markdown",
      "metadata": {
        "id": "DdJuqBCuBF3E"
      },
      "source": [
        "# 3. Fit, Predict and Evaluate"
      ]
    },
    {
      "cell_type": "code",
      "execution_count": null,
      "metadata": {
        "collapsed": true,
        "colab": {
          "base_uri": "https://localhost:8080/"
        },
        "id": "xblzgDDbBF3E",
        "outputId": "20717970-640c-480a-b976-94de16e5f585"
      },
      "outputs": [
        {
          "output_type": "stream",
          "name": "stdout",
          "text": [
            "Epoch 1/200\n",
            "177/177 [==============================] - 1s 3ms/step - loss: 0.4985 - accuracy: 0.7624\n",
            "Epoch 2/200\n",
            "177/177 [==============================] - 1s 3ms/step - loss: 0.4775 - accuracy: 0.7721\n",
            "Epoch 3/200\n",
            "177/177 [==============================] - 1s 3ms/step - loss: 0.4771 - accuracy: 0.7847\n",
            "Epoch 4/200\n",
            "177/177 [==============================] - 1s 3ms/step - loss: 0.4724 - accuracy: 0.7837\n",
            "Epoch 5/200\n",
            "177/177 [==============================] - 1s 3ms/step - loss: 0.4668 - accuracy: 0.7846\n",
            "Epoch 6/200\n",
            "177/177 [==============================] - 1s 3ms/step - loss: 0.4695 - accuracy: 0.7776\n",
            "Epoch 7/200\n",
            "177/177 [==============================] - 1s 3ms/step - loss: 0.4611 - accuracy: 0.7894\n",
            "Epoch 8/200\n",
            "177/177 [==============================] - 1s 3ms/step - loss: 0.4611 - accuracy: 0.7849\n",
            "Epoch 9/200\n",
            "177/177 [==============================] - 1s 3ms/step - loss: 0.4590 - accuracy: 0.7892\n",
            "Epoch 10/200\n",
            "177/177 [==============================] - 1s 3ms/step - loss: 0.4561 - accuracy: 0.7879\n",
            "Epoch 11/200\n",
            "177/177 [==============================] - 1s 3ms/step - loss: 0.4544 - accuracy: 0.7886\n",
            "Epoch 12/200\n",
            "177/177 [==============================] - 1s 3ms/step - loss: 0.4547 - accuracy: 0.7858\n",
            "Epoch 13/200\n",
            "177/177 [==============================] - 1s 3ms/step - loss: 0.4511 - accuracy: 0.7883\n",
            "Epoch 14/200\n",
            "177/177 [==============================] - 1s 3ms/step - loss: 0.4488 - accuracy: 0.7906\n",
            "Epoch 15/200\n",
            "177/177 [==============================] - 1s 3ms/step - loss: 0.4505 - accuracy: 0.7915\n",
            "Epoch 16/200\n",
            "177/177 [==============================] - 1s 3ms/step - loss: 0.4493 - accuracy: 0.7899\n",
            "Epoch 17/200\n",
            "177/177 [==============================] - 1s 3ms/step - loss: 0.4462 - accuracy: 0.7911\n",
            "Epoch 18/200\n",
            "177/177 [==============================] - 1s 5ms/step - loss: 0.4464 - accuracy: 0.7878\n",
            "Epoch 19/200\n",
            "177/177 [==============================] - 1s 5ms/step - loss: 0.4449 - accuracy: 0.7881\n",
            "Epoch 20/200\n",
            "177/177 [==============================] - 1s 5ms/step - loss: 0.4440 - accuracy: 0.7901\n",
            "Epoch 21/200\n",
            "177/177 [==============================] - 1s 5ms/step - loss: 0.4427 - accuracy: 0.7949\n",
            "Epoch 22/200\n",
            "177/177 [==============================] - 1s 3ms/step - loss: 0.4422 - accuracy: 0.7897\n",
            "Epoch 23/200\n",
            "177/177 [==============================] - 1s 3ms/step - loss: 0.4455 - accuracy: 0.7879\n",
            "Epoch 24/200\n",
            "177/177 [==============================] - 1s 3ms/step - loss: 0.4422 - accuracy: 0.7918\n",
            "Epoch 25/200\n",
            "177/177 [==============================] - 1s 3ms/step - loss: 0.4419 - accuracy: 0.7956\n",
            "Epoch 26/200\n",
            "177/177 [==============================] - 1s 3ms/step - loss: 0.4427 - accuracy: 0.7931\n",
            "Epoch 27/200\n",
            "177/177 [==============================] - 1s 3ms/step - loss: 0.4396 - accuracy: 0.7924\n",
            "Epoch 28/200\n",
            "177/177 [==============================] - 1s 3ms/step - loss: 0.4395 - accuracy: 0.7925\n",
            "Epoch 29/200\n",
            "177/177 [==============================] - 1s 3ms/step - loss: 0.4395 - accuracy: 0.7918\n",
            "Epoch 30/200\n",
            "177/177 [==============================] - 1s 3ms/step - loss: 0.4398 - accuracy: 0.7924\n",
            "Epoch 31/200\n",
            "177/177 [==============================] - 1s 3ms/step - loss: 0.4398 - accuracy: 0.7899\n",
            "Epoch 32/200\n",
            "177/177 [==============================] - 1s 3ms/step - loss: 0.4390 - accuracy: 0.7924\n",
            "Epoch 33/200\n",
            "177/177 [==============================] - 1s 3ms/step - loss: 0.4393 - accuracy: 0.7959\n",
            "Epoch 34/200\n",
            "177/177 [==============================] - 1s 3ms/step - loss: 0.4416 - accuracy: 0.7897\n",
            "Epoch 35/200\n",
            "177/177 [==============================] - 1s 3ms/step - loss: 0.4380 - accuracy: 0.7925\n",
            "Epoch 36/200\n",
            "177/177 [==============================] - 1s 3ms/step - loss: 0.4361 - accuracy: 0.7941\n",
            "Epoch 37/200\n",
            "177/177 [==============================] - 1s 3ms/step - loss: 0.4352 - accuracy: 0.7950\n",
            "Epoch 38/200\n",
            "177/177 [==============================] - 1s 3ms/step - loss: 0.4354 - accuracy: 0.7915\n",
            "Epoch 39/200\n",
            "177/177 [==============================] - 1s 3ms/step - loss: 0.4360 - accuracy: 0.7945\n",
            "Epoch 40/200\n",
            "177/177 [==============================] - 1s 5ms/step - loss: 0.4383 - accuracy: 0.7940\n",
            "Epoch 41/200\n",
            "177/177 [==============================] - 1s 5ms/step - loss: 0.4408 - accuracy: 0.7894\n",
            "Epoch 42/200\n",
            "177/177 [==============================] - 1s 5ms/step - loss: 0.4336 - accuracy: 0.7959\n",
            "Epoch 43/200\n",
            "177/177 [==============================] - 1s 5ms/step - loss: 0.4346 - accuracy: 0.7933\n",
            "Epoch 44/200\n",
            "177/177 [==============================] - 1s 4ms/step - loss: 0.4340 - accuracy: 0.7901\n",
            "Epoch 45/200\n",
            "177/177 [==============================] - 1s 3ms/step - loss: 0.4302 - accuracy: 0.7957\n",
            "Epoch 46/200\n",
            "177/177 [==============================] - 1s 3ms/step - loss: 0.4348 - accuracy: 0.7894\n",
            "Epoch 47/200\n",
            "177/177 [==============================] - 1s 3ms/step - loss: 0.4324 - accuracy: 0.7954\n",
            "Epoch 48/200\n",
            "177/177 [==============================] - 1s 3ms/step - loss: 0.4343 - accuracy: 0.7934\n",
            "Epoch 49/200\n",
            "177/177 [==============================] - 1s 3ms/step - loss: 0.4325 - accuracy: 0.7965\n",
            "Epoch 50/200\n",
            "177/177 [==============================] - 1s 3ms/step - loss: 0.4344 - accuracy: 0.7975\n",
            "Epoch 51/200\n",
            "177/177 [==============================] - 1s 3ms/step - loss: 0.4346 - accuracy: 0.7963\n",
            "Epoch 52/200\n",
            "177/177 [==============================] - 1s 3ms/step - loss: 0.4317 - accuracy: 0.7936\n",
            "Epoch 53/200\n",
            "177/177 [==============================] - 1s 3ms/step - loss: 0.4329 - accuracy: 0.7940\n",
            "Epoch 54/200\n",
            "177/177 [==============================] - 1s 3ms/step - loss: 0.4308 - accuracy: 0.7963\n",
            "Epoch 55/200\n",
            "177/177 [==============================] - 1s 3ms/step - loss: 0.4313 - accuracy: 0.8000\n",
            "Epoch 56/200\n",
            "177/177 [==============================] - 1s 3ms/step - loss: 0.4283 - accuracy: 0.7925\n",
            "Epoch 57/200\n",
            "177/177 [==============================] - 1s 3ms/step - loss: 0.4323 - accuracy: 0.7936\n",
            "Epoch 58/200\n",
            "177/177 [==============================] - 1s 3ms/step - loss: 0.4308 - accuracy: 0.7940\n",
            "Epoch 59/200\n",
            "177/177 [==============================] - 1s 3ms/step - loss: 0.4275 - accuracy: 0.7949\n",
            "Epoch 60/200\n",
            "177/177 [==============================] - 1s 3ms/step - loss: 0.4277 - accuracy: 0.7973\n",
            "Epoch 61/200\n",
            "177/177 [==============================] - 1s 3ms/step - loss: 0.4285 - accuracy: 0.7940\n",
            "Epoch 62/200\n",
            "177/177 [==============================] - 1s 5ms/step - loss: 0.4303 - accuracy: 0.7929\n",
            "Epoch 63/200\n",
            "177/177 [==============================] - 1s 5ms/step - loss: 0.4306 - accuracy: 0.7934\n",
            "Epoch 64/200\n",
            "177/177 [==============================] - 1s 5ms/step - loss: 0.4302 - accuracy: 0.7989\n",
            "Epoch 65/200\n",
            "177/177 [==============================] - 1s 5ms/step - loss: 0.4290 - accuracy: 0.7972\n",
            "Epoch 66/200\n",
            "177/177 [==============================] - 1s 3ms/step - loss: 0.4275 - accuracy: 0.7989\n",
            "Epoch 67/200\n",
            "177/177 [==============================] - 1s 4ms/step - loss: 0.4283 - accuracy: 0.7956\n",
            "Epoch 68/200\n",
            "177/177 [==============================] - 1s 3ms/step - loss: 0.4285 - accuracy: 0.7998\n",
            "Epoch 69/200\n",
            "177/177 [==============================] - 1s 3ms/step - loss: 0.4278 - accuracy: 0.7968\n",
            "Epoch 70/200\n",
            "177/177 [==============================] - 1s 3ms/step - loss: 0.4284 - accuracy: 0.7965\n",
            "Epoch 71/200\n",
            "177/177 [==============================] - 1s 3ms/step - loss: 0.4267 - accuracy: 0.7991\n",
            "Epoch 72/200\n",
            "177/177 [==============================] - 1s 3ms/step - loss: 0.4249 - accuracy: 0.8016\n",
            "Epoch 73/200\n",
            "177/177 [==============================] - 1s 3ms/step - loss: 0.4276 - accuracy: 0.7950\n",
            "Epoch 74/200\n",
            "177/177 [==============================] - 1s 3ms/step - loss: 0.4256 - accuracy: 0.7963\n",
            "Epoch 75/200\n",
            "177/177 [==============================] - 1s 3ms/step - loss: 0.4239 - accuracy: 0.8002\n",
            "Epoch 76/200\n",
            "177/177 [==============================] - 1s 3ms/step - loss: 0.4255 - accuracy: 0.7947\n",
            "Epoch 77/200\n",
            "177/177 [==============================] - 1s 3ms/step - loss: 0.4260 - accuracy: 0.7966\n",
            "Epoch 78/200\n",
            "177/177 [==============================] - 1s 3ms/step - loss: 0.4264 - accuracy: 0.7938\n",
            "Epoch 79/200\n",
            "177/177 [==============================] - 1s 3ms/step - loss: 0.4283 - accuracy: 0.7993\n",
            "Epoch 80/200\n",
            "177/177 [==============================] - 1s 3ms/step - loss: 0.4285 - accuracy: 0.7977\n",
            "Epoch 81/200\n",
            "177/177 [==============================] - 1s 3ms/step - loss: 0.4254 - accuracy: 0.7956\n",
            "Epoch 82/200\n",
            "177/177 [==============================] - 1s 5ms/step - loss: 0.4231 - accuracy: 0.7998\n",
            "Epoch 83/200\n",
            "177/177 [==============================] - 1s 5ms/step - loss: 0.4241 - accuracy: 0.7977\n",
            "Epoch 84/200\n",
            "177/177 [==============================] - 1s 5ms/step - loss: 0.4320 - accuracy: 0.7934\n",
            "Epoch 85/200\n",
            "177/177 [==============================] - 1s 5ms/step - loss: 0.4289 - accuracy: 0.7945\n",
            "Epoch 86/200\n",
            "177/177 [==============================] - 1s 4ms/step - loss: 0.4239 - accuracy: 0.7988\n",
            "Epoch 87/200\n",
            "177/177 [==============================] - 1s 3ms/step - loss: 0.4287 - accuracy: 0.8000\n",
            "Epoch 88/200\n",
            "177/177 [==============================] - 1s 3ms/step - loss: 0.4325 - accuracy: 0.7920\n",
            "Epoch 89/200\n",
            "177/177 [==============================] - 1s 3ms/step - loss: 0.4400 - accuracy: 0.7998\n",
            "Epoch 90/200\n",
            "177/177 [==============================] - 1s 3ms/step - loss: 0.4265 - accuracy: 0.8030\n",
            "Epoch 91/200\n",
            "177/177 [==============================] - 1s 4ms/step - loss: 0.4255 - accuracy: 0.7980\n",
            "Epoch 92/200\n",
            "177/177 [==============================] - 1s 3ms/step - loss: 0.4238 - accuracy: 0.8018\n",
            "Epoch 93/200\n",
            "177/177 [==============================] - 1s 3ms/step - loss: 0.4231 - accuracy: 0.7972\n",
            "Epoch 94/200\n",
            "177/177 [==============================] - 1s 3ms/step - loss: 0.4252 - accuracy: 0.7956\n",
            "Epoch 95/200\n",
            "177/177 [==============================] - 1s 3ms/step - loss: 0.4203 - accuracy: 0.7988\n",
            "Epoch 96/200\n",
            "177/177 [==============================] - 1s 3ms/step - loss: 0.4206 - accuracy: 0.8041\n",
            "Epoch 97/200\n",
            "177/177 [==============================] - 1s 3ms/step - loss: 0.4222 - accuracy: 0.7993\n",
            "Epoch 98/200\n",
            "177/177 [==============================] - 1s 3ms/step - loss: 0.4211 - accuracy: 0.7995\n",
            "Epoch 99/200\n",
            "177/177 [==============================] - 1s 3ms/step - loss: 0.4215 - accuracy: 0.8025\n",
            "Epoch 100/200\n",
            "177/177 [==============================] - 1s 3ms/step - loss: 0.4250 - accuracy: 0.7949\n",
            "Epoch 101/200\n",
            "177/177 [==============================] - 1s 3ms/step - loss: 0.4212 - accuracy: 0.7989\n",
            "Epoch 102/200\n",
            "177/177 [==============================] - 1s 3ms/step - loss: 0.4195 - accuracy: 0.7957\n",
            "Epoch 103/200\n",
            "177/177 [==============================] - 1s 4ms/step - loss: 0.4203 - accuracy: 0.7995\n",
            "Epoch 104/200\n",
            "177/177 [==============================] - 1s 5ms/step - loss: 0.4213 - accuracy: 0.8012\n",
            "Epoch 105/200\n",
            "177/177 [==============================] - 1s 5ms/step - loss: 0.4226 - accuracy: 0.7961\n",
            "Epoch 106/200\n",
            "177/177 [==============================] - 1s 5ms/step - loss: 0.4208 - accuracy: 0.7996\n",
            "Epoch 107/200\n",
            "177/177 [==============================] - 1s 4ms/step - loss: 0.4198 - accuracy: 0.8025\n",
            "Epoch 108/200\n",
            "177/177 [==============================] - 1s 3ms/step - loss: 0.4199 - accuracy: 0.8035\n",
            "Epoch 109/200\n",
            "177/177 [==============================] - 1s 3ms/step - loss: 0.4213 - accuracy: 0.8018\n",
            "Epoch 110/200\n",
            "177/177 [==============================] - 1s 3ms/step - loss: 0.4227 - accuracy: 0.7970\n",
            "Epoch 111/200\n",
            "177/177 [==============================] - 1s 3ms/step - loss: 0.4195 - accuracy: 0.7989\n",
            "Epoch 112/200\n",
            "177/177 [==============================] - 1s 3ms/step - loss: 0.4212 - accuracy: 0.8025\n",
            "Epoch 113/200\n",
            "177/177 [==============================] - 1s 3ms/step - loss: 0.4212 - accuracy: 0.8021\n",
            "Epoch 114/200\n",
            "177/177 [==============================] - 1s 3ms/step - loss: 0.4205 - accuracy: 0.8009\n",
            "Epoch 115/200\n",
            "177/177 [==============================] - 1s 3ms/step - loss: 0.4204 - accuracy: 0.8016\n",
            "Epoch 116/200\n",
            "177/177 [==============================] - 1s 3ms/step - loss: 0.4178 - accuracy: 0.8025\n",
            "Epoch 117/200\n",
            "177/177 [==============================] - 1s 3ms/step - loss: 0.4185 - accuracy: 0.8009\n",
            "Epoch 118/200\n",
            "177/177 [==============================] - 1s 3ms/step - loss: 0.4196 - accuracy: 0.8032\n",
            "Epoch 119/200\n",
            "177/177 [==============================] - 1s 3ms/step - loss: 0.4192 - accuracy: 0.7995\n",
            "Epoch 120/200\n",
            "177/177 [==============================] - 1s 3ms/step - loss: 0.4201 - accuracy: 0.7989\n",
            "Epoch 121/200\n",
            "177/177 [==============================] - 1s 3ms/step - loss: 0.4187 - accuracy: 0.7995\n",
            "Epoch 122/200\n",
            "177/177 [==============================] - 1s 3ms/step - loss: 0.4185 - accuracy: 0.8004\n",
            "Epoch 123/200\n",
            "177/177 [==============================] - 1s 3ms/step - loss: 0.4190 - accuracy: 0.8005\n",
            "Epoch 124/200\n",
            "177/177 [==============================] - 1s 4ms/step - loss: 0.4214 - accuracy: 0.8034\n",
            "Epoch 125/200\n",
            "177/177 [==============================] - 1s 5ms/step - loss: 0.4430 - accuracy: 0.7947\n",
            "Epoch 126/200\n",
            "177/177 [==============================] - 1s 6ms/step - loss: 0.4216 - accuracy: 0.8009\n",
            "Epoch 127/200\n",
            "177/177 [==============================] - 1s 5ms/step - loss: 0.4215 - accuracy: 0.7975\n",
            "Epoch 128/200\n",
            "177/177 [==============================] - 1s 5ms/step - loss: 0.4237 - accuracy: 0.7961\n",
            "Epoch 129/200\n",
            "177/177 [==============================] - 1s 3ms/step - loss: 0.4235 - accuracy: 0.7977\n",
            "Epoch 130/200\n",
            "177/177 [==============================] - 1s 3ms/step - loss: 0.4215 - accuracy: 0.8007\n",
            "Epoch 131/200\n",
            "177/177 [==============================] - 1s 3ms/step - loss: 0.4214 - accuracy: 0.8023\n",
            "Epoch 132/200\n",
            "177/177 [==============================] - 1s 3ms/step - loss: 0.4208 - accuracy: 0.8014\n",
            "Epoch 133/200\n",
            "177/177 [==============================] - 1s 3ms/step - loss: 0.4177 - accuracy: 0.8005\n",
            "Epoch 134/200\n",
            "177/177 [==============================] - 1s 3ms/step - loss: 0.4237 - accuracy: 0.8002\n",
            "Epoch 135/200\n",
            "177/177 [==============================] - 1s 3ms/step - loss: 0.4212 - accuracy: 0.7959\n",
            "Epoch 136/200\n",
            "177/177 [==============================] - 1s 3ms/step - loss: 0.4273 - accuracy: 0.7973\n",
            "Epoch 137/200\n",
            "177/177 [==============================] - 1s 3ms/step - loss: 0.4173 - accuracy: 0.8050\n",
            "Epoch 138/200\n",
            "177/177 [==============================] - 1s 4ms/step - loss: 0.4168 - accuracy: 0.7988\n",
            "Epoch 139/200\n",
            "177/177 [==============================] - 1s 3ms/step - loss: 0.4161 - accuracy: 0.8012\n",
            "Epoch 140/200\n",
            "177/177 [==============================] - 1s 3ms/step - loss: 0.4198 - accuracy: 0.8037\n",
            "Epoch 141/200\n",
            "177/177 [==============================] - 1s 3ms/step - loss: 0.4205 - accuracy: 0.8028\n",
            "Epoch 142/200\n",
            "177/177 [==============================] - 1s 3ms/step - loss: 0.4139 - accuracy: 0.8021\n",
            "Epoch 143/200\n",
            "177/177 [==============================] - 1s 3ms/step - loss: 0.4161 - accuracy: 0.8014\n",
            "Epoch 144/200\n",
            "177/177 [==============================] - 1s 3ms/step - loss: 0.4148 - accuracy: 0.8030\n",
            "Epoch 145/200\n",
            "177/177 [==============================] - 1s 4ms/step - loss: 0.4163 - accuracy: 0.8035\n",
            "Epoch 146/200\n",
            "177/177 [==============================] - 1s 5ms/step - loss: 0.4175 - accuracy: 0.8005\n",
            "Epoch 147/200\n",
            "177/177 [==============================] - 1s 5ms/step - loss: 0.4164 - accuracy: 0.8039\n",
            "Epoch 148/200\n",
            "177/177 [==============================] - 1s 5ms/step - loss: 0.4163 - accuracy: 0.8050\n",
            "Epoch 149/200\n",
            "177/177 [==============================] - 1s 6ms/step - loss: 0.4143 - accuracy: 0.8018\n",
            "Epoch 150/200\n",
            "177/177 [==============================] - 1s 5ms/step - loss: 0.4184 - accuracy: 0.7957\n",
            "Epoch 151/200\n",
            "177/177 [==============================] - 1s 3ms/step - loss: 0.4168 - accuracy: 0.8037\n",
            "Epoch 152/200\n",
            "177/177 [==============================] - 1s 3ms/step - loss: 0.4162 - accuracy: 0.8041\n",
            "Epoch 153/200\n",
            "177/177 [==============================] - 1s 3ms/step - loss: 0.4161 - accuracy: 0.8023\n",
            "Epoch 154/200\n",
            "177/177 [==============================] - 1s 3ms/step - loss: 0.4174 - accuracy: 0.8018\n",
            "Epoch 155/200\n",
            "177/177 [==============================] - 1s 3ms/step - loss: 0.4161 - accuracy: 0.8051\n",
            "Epoch 156/200\n",
            "177/177 [==============================] - 1s 3ms/step - loss: 0.4184 - accuracy: 0.8023\n",
            "Epoch 157/200\n",
            "177/177 [==============================] - 1s 3ms/step - loss: 0.4165 - accuracy: 0.8020\n",
            "Epoch 158/200\n",
            "177/177 [==============================] - 1s 3ms/step - loss: 0.4159 - accuracy: 0.7982\n",
            "Epoch 159/200\n",
            "177/177 [==============================] - 1s 3ms/step - loss: 0.4154 - accuracy: 0.8055\n",
            "Epoch 160/200\n",
            "177/177 [==============================] - 1s 3ms/step - loss: 0.4191 - accuracy: 0.8032\n",
            "Epoch 161/200\n",
            "177/177 [==============================] - 1s 3ms/step - loss: 0.4169 - accuracy: 0.8014\n",
            "Epoch 162/200\n",
            "177/177 [==============================] - 1s 3ms/step - loss: 0.4175 - accuracy: 0.8000\n",
            "Epoch 163/200\n",
            "177/177 [==============================] - 1s 3ms/step - loss: 0.4155 - accuracy: 0.8020\n",
            "Epoch 164/200\n",
            "177/177 [==============================] - 1s 3ms/step - loss: 0.4155 - accuracy: 0.8014\n",
            "Epoch 165/200\n",
            "177/177 [==============================] - 1s 5ms/step - loss: 0.4164 - accuracy: 0.8041\n",
            "Epoch 166/200\n",
            "177/177 [==============================] - 1s 6ms/step - loss: 0.4159 - accuracy: 0.8039\n",
            "Epoch 167/200\n",
            "177/177 [==============================] - 1s 5ms/step - loss: 0.4154 - accuracy: 0.8009\n",
            "Epoch 168/200\n",
            "177/177 [==============================] - 1s 6ms/step - loss: 0.4182 - accuracy: 0.8018\n",
            "Epoch 169/200\n",
            "177/177 [==============================] - 1s 6ms/step - loss: 0.4174 - accuracy: 0.8039\n",
            "Epoch 170/200\n",
            "177/177 [==============================] - 1s 6ms/step - loss: 0.4152 - accuracy: 0.8034\n",
            "Epoch 171/200\n",
            "177/177 [==============================] - 1s 5ms/step - loss: 0.4157 - accuracy: 0.7993\n",
            "Epoch 172/200\n",
            "177/177 [==============================] - 1s 6ms/step - loss: 0.4143 - accuracy: 0.8034\n",
            "Epoch 173/200\n",
            "177/177 [==============================] - 1s 6ms/step - loss: 0.4141 - accuracy: 0.8032\n",
            "Epoch 174/200\n",
            "177/177 [==============================] - 1s 6ms/step - loss: 0.4140 - accuracy: 0.8055\n",
            "Epoch 175/200\n",
            "177/177 [==============================] - 1s 6ms/step - loss: 0.4128 - accuracy: 0.8043\n",
            "Epoch 176/200\n",
            "177/177 [==============================] - 1s 5ms/step - loss: 0.4137 - accuracy: 0.8046\n",
            "Epoch 177/200\n",
            "177/177 [==============================] - 1s 3ms/step - loss: 0.4146 - accuracy: 0.8030\n",
            "Epoch 178/200\n",
            "177/177 [==============================] - 1s 3ms/step - loss: 0.4126 - accuracy: 0.8037\n",
            "Epoch 179/200\n",
            "177/177 [==============================] - 1s 3ms/step - loss: 0.4133 - accuracy: 0.8030\n",
            "Epoch 180/200\n",
            "177/177 [==============================] - 1s 3ms/step - loss: 0.4158 - accuracy: 0.8021\n",
            "Epoch 181/200\n",
            "177/177 [==============================] - 1s 3ms/step - loss: 0.4154 - accuracy: 0.8048\n",
            "Epoch 182/200\n",
            "177/177 [==============================] - 1s 3ms/step - loss: 0.4146 - accuracy: 0.8064\n",
            "Epoch 183/200\n",
            "177/177 [==============================] - 1s 3ms/step - loss: 0.4119 - accuracy: 0.8020\n",
            "Epoch 184/200\n",
            "177/177 [==============================] - 1s 3ms/step - loss: 0.4124 - accuracy: 0.8050\n",
            "Epoch 185/200\n",
            "177/177 [==============================] - 1s 3ms/step - loss: 0.4116 - accuracy: 0.8071\n",
            "Epoch 186/200\n",
            "177/177 [==============================] - 1s 3ms/step - loss: 0.4155 - accuracy: 0.8030\n",
            "Epoch 187/200\n",
            "177/177 [==============================] - 1s 3ms/step - loss: 0.4150 - accuracy: 0.8016\n",
            "Epoch 188/200\n",
            "177/177 [==============================] - 1s 3ms/step - loss: 0.4149 - accuracy: 0.7965\n",
            "Epoch 189/200\n",
            "177/177 [==============================] - 1s 4ms/step - loss: 0.4151 - accuracy: 0.8016\n",
            "Epoch 190/200\n",
            "177/177 [==============================] - 1s 5ms/step - loss: 0.4143 - accuracy: 0.8046\n",
            "Epoch 191/200\n",
            "177/177 [==============================] - 1s 5ms/step - loss: 0.4121 - accuracy: 0.8039\n",
            "Epoch 192/200\n",
            "177/177 [==============================] - 1s 6ms/step - loss: 0.4111 - accuracy: 0.8014\n",
            "Epoch 193/200\n",
            "177/177 [==============================] - 1s 5ms/step - loss: 0.4130 - accuracy: 0.8069\n",
            "Epoch 194/200\n",
            "177/177 [==============================] - 1s 3ms/step - loss: 0.4141 - accuracy: 0.8050\n",
            "Epoch 195/200\n",
            "177/177 [==============================] - 1s 3ms/step - loss: 0.4108 - accuracy: 0.8021\n",
            "Epoch 196/200\n",
            "177/177 [==============================] - 1s 3ms/step - loss: 0.4141 - accuracy: 0.8059\n",
            "Epoch 197/200\n",
            "177/177 [==============================] - 1s 3ms/step - loss: 0.4130 - accuracy: 0.8048\n",
            "Epoch 198/200\n",
            "177/177 [==============================] - 1s 4ms/step - loss: 0.4129 - accuracy: 0.7995\n",
            "Epoch 199/200\n",
            "177/177 [==============================] - 1s 3ms/step - loss: 0.4133 - accuracy: 0.8023\n",
            "Epoch 200/200\n",
            "177/177 [==============================] - 1s 3ms/step - loss: 0.4131 - accuracy: 0.8059\n"
          ]
        },
        {
          "output_type": "execute_result",
          "data": {
            "text/plain": [
              "<keras.src.callbacks.History at 0x7ba2211d46d0>"
            ]
          },
          "metadata": {},
          "execution_count": 16
        }
      ],
      "source": [
        "model.fit(X_train, y_train, epochs=200, batch_size=32)"
      ]
    },
    {
      "cell_type": "code",
      "source": [
        "X_test = X_test.astype('float32')\n"
      ],
      "metadata": {
        "id": "hcKAHYPsO_Np"
      },
      "execution_count": null,
      "outputs": []
    },
    {
      "cell_type": "code",
      "execution_count": null,
      "metadata": {
        "colab": {
          "base_uri": "https://localhost:8080/"
        },
        "id": "xKMZVy36BF3E",
        "outputId": "c525bc68-c260-488a-ad10-920e1ed4f8b1"
      },
      "outputs": [
        {
          "output_type": "stream",
          "name": "stdout",
          "text": [
            "45/45 [==============================] - 0s 2ms/step\n"
          ]
        }
      ],
      "source": [
        "y_hat = model.predict(X_test)\n",
        "y_hat = [0 if val < 0.5 else 1 for val in y_hat]"
      ]
    },
    {
      "cell_type": "code",
      "execution_count": null,
      "metadata": {
        "colab": {
          "base_uri": "https://localhost:8080/"
        },
        "id": "QrAv46TJBF3F",
        "outputId": "a4351841-3b82-4205-9d04-86156386da2d"
      },
      "outputs": [
        {
          "output_type": "execute_result",
          "data": {
            "text/plain": [
              "0.6160397444996452"
            ]
          },
          "metadata": {},
          "execution_count": 20
        }
      ],
      "source": [
        "accuracy_score(y_test, y_hat)"
      ]
    },
    {
      "cell_type": "markdown",
      "metadata": {
        "id": "GG3pytL5BF3F"
      },
      "source": [
        "# 4. Saving and Reloading"
      ]
    },
    {
      "cell_type": "code",
      "execution_count": null,
      "metadata": {
        "collapsed": true,
        "id": "ZEPJ9N_KBF3F"
      },
      "outputs": [],
      "source": [
        "model.save('tfmodel')"
      ]
    },
    {
      "cell_type": "code",
      "execution_count": null,
      "metadata": {
        "id": "bFWrfmSPBF3F"
      },
      "outputs": [],
      "source": [
        "del model"
      ]
    },
    {
      "cell_type": "code",
      "execution_count": null,
      "metadata": {
        "id": "H_T_gIPPBF3F"
      },
      "outputs": [],
      "source": [
        "model = load_model('tfmodel')"
      ]
    }
  ],
  "metadata": {
    "kernelspec": {
      "display_name": "Python 3",
      "language": "python",
      "name": "python3"
    },
    "language_info": {
      "codemirror_mode": {
        "name": "ipython",
        "version": 3
      },
      "file_extension": ".py",
      "mimetype": "text/x-python",
      "name": "python",
      "nbconvert_exporter": "python",
      "pygments_lexer": "ipython3",
      "version": "3.7.4"
    },
    "colab": {
      "provenance": []
    }
  },
  "nbformat": 4,
  "nbformat_minor": 0
}